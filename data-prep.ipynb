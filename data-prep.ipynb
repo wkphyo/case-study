{
 "cells": [
  {
   "cell_type": "markdown",
   "metadata": {},
   "source": [
    "Data originally from this source: https://www.kaggle.com/datasets/ealtman2019/credit-card-transactions"
   ]
  },
  {
   "cell_type": "code",
   "execution_count": 1,
   "metadata": {},
   "outputs": [],
   "source": [
    "import pandas as pd\n",
    "import numpy as np\n",
    "import datetime\n",
    "import mysql.connector\n",
    "\n",
    "from sklearn.cluster import KMeans\n",
    "import plotly.express as px\n",
    "import plotly.graph_objects as go\n",
    "import matplotlib.pyplot as plt"
   ]
  },
  {
   "cell_type": "code",
   "execution_count": 2,
   "metadata": {},
   "outputs": [
    {
     "name": "stdout",
     "output_type": "stream",
     "text": [
      "<mysql.connector.connection.MySQLConnection object at 0x7fe7153a7760>\n"
     ]
    }
   ],
   "source": [
    "# Create connection to mysql database\n",
    "credit_card_transactions_db = mysql.connector.connect(\n",
    "    host=\"127.0.0.1\",\n",
    "    user=\"root\",\n",
    "    password=\"\"\n",
    ")\n",
    "\n",
    "print(credit_card_transactions_db) "
   ]
  },
  {
   "cell_type": "markdown",
   "metadata": {},
   "source": [
    "Let's begin by reading in the contents of both tables to pandas dataframes, and then using Python to explore and clean the data. We will only consider non fraudulent transactions no older than Jan 1, 2012."
   ]
  },
  {
   "cell_type": "code",
   "execution_count": 3,
   "metadata": {},
   "outputs": [],
   "source": [
    "query1 = \"\"\"\n",
    "SELECT \n",
    "  User,\n",
    "  Amount,\n",
    "  `Use Chip`,\n",
    "  `Merchant Name`,\n",
    "  `Merchant State`,\n",
    "  MCC,\n",
    "  Year,\n",
    "  DATE_ADD(DATE_ADD(MAKEDATE(Year, 1), INTERVAL (Month)-1 MONTH), INTERVAL (Day)-1 DAY) AS Date,\n",
    "  TIMESTAMP(DATE_ADD(DATE_ADD(MAKEDATE(Year, 1), INTERVAL (Month)-1 MONTH), INTERVAL (Day)-1 DAY),CONVERT(TIME, Time)) AS Datetime\n",
    "FROM CreditCardTransactions.transactions\n",
    "WHERE \n",
    "  `Is Fraud?` = \"No\"\n",
    "  AND Year >= 2012;\n",
    "\"\"\"\n",
    "query2 = \"\"\"\n",
    "SELECT\n",
    "  id AS User,\n",
    "  Gender,\n",
    "  `Current Age`,\n",
    "  `Retirement Age`,\n",
    "  `Yearly Income - Person`,\n",
    "  `Total Debt`,\n",
    "  `FICO Score`,\n",
    "  `Num Credit Cards`\n",
    "FROM CreditCardTransactions.users;\n",
    "\"\"\"\n",
    "transactions_df = pd.read_sql(query1, credit_card_transactions_db)\n",
    "users_df = pd.read_sql(query2, credit_card_transactions_db)\n",
    "credit_card_transactions_db.close()"
   ]
  },
  {
   "cell_type": "code",
   "execution_count": 4,
   "metadata": {},
   "outputs": [
    {
     "data": {
      "text/html": [
       "<div>\n",
       "<style scoped>\n",
       "    .dataframe tbody tr th:only-of-type {\n",
       "        vertical-align: middle;\n",
       "    }\n",
       "\n",
       "    .dataframe tbody tr th {\n",
       "        vertical-align: top;\n",
       "    }\n",
       "\n",
       "    .dataframe thead th {\n",
       "        text-align: right;\n",
       "    }\n",
       "</style>\n",
       "<table border=\"1\" class=\"dataframe\">\n",
       "  <thead>\n",
       "    <tr style=\"text-align: right;\">\n",
       "      <th></th>\n",
       "      <th>User</th>\n",
       "      <th>Amount</th>\n",
       "      <th>Use Chip</th>\n",
       "      <th>Merchant Name</th>\n",
       "      <th>Merchant State</th>\n",
       "      <th>MCC</th>\n",
       "      <th>Year</th>\n",
       "      <th>Date</th>\n",
       "      <th>Datetime</th>\n",
       "    </tr>\n",
       "  </thead>\n",
       "  <tbody>\n",
       "    <tr>\n",
       "      <th>0</th>\n",
       "      <td>1</td>\n",
       "      <td>$7.93</td>\n",
       "      <td>Swipe Transaction</td>\n",
       "      <td>4060646732831064559</td>\n",
       "      <td>CA</td>\n",
       "      <td>5411</td>\n",
       "      <td>2012</td>\n",
       "      <td>2012-01-01</td>\n",
       "      <td>2012-01-01 14:15:00</td>\n",
       "    </tr>\n",
       "    <tr>\n",
       "      <th>1</th>\n",
       "      <td>1</td>\n",
       "      <td>$3.46</td>\n",
       "      <td>Swipe Transaction</td>\n",
       "      <td>-34551508091458520</td>\n",
       "      <td>CA</td>\n",
       "      <td>5912</td>\n",
       "      <td>2012</td>\n",
       "      <td>2012-01-02</td>\n",
       "      <td>2012-01-02 12:57:00</td>\n",
       "    </tr>\n",
       "    <tr>\n",
       "      <th>2</th>\n",
       "      <td>1</td>\n",
       "      <td>$68.79</td>\n",
       "      <td>Swipe Transaction</td>\n",
       "      <td>4060646732831064559</td>\n",
       "      <td>CA</td>\n",
       "      <td>5411</td>\n",
       "      <td>2012</td>\n",
       "      <td>2012-01-02</td>\n",
       "      <td>2012-01-02 13:31:00</td>\n",
       "    </tr>\n",
       "  </tbody>\n",
       "</table>\n",
       "</div>"
      ],
      "text/plain": [
       "   User  Amount           Use Chip        Merchant Name Merchant State   MCC  \\\n",
       "0     1   $7.93  Swipe Transaction  4060646732831064559             CA  5411   \n",
       "1     1   $3.46  Swipe Transaction   -34551508091458520             CA  5912   \n",
       "2     1  $68.79  Swipe Transaction  4060646732831064559             CA  5411   \n",
       "\n",
       "   Year        Date            Datetime  \n",
       "0  2012  2012-01-01 2012-01-01 14:15:00  \n",
       "1  2012  2012-01-02 2012-01-02 12:57:00  \n",
       "2  2012  2012-01-02 2012-01-02 13:31:00  "
      ]
     },
     "execution_count": 4,
     "metadata": {},
     "output_type": "execute_result"
    }
   ],
   "source": [
    "transactions_df.head(3)"
   ]
  },
  {
   "cell_type": "markdown",
   "metadata": {},
   "source": [
    "From a quick glance at a sample of the contents of the data set, we can see that *transactions_df* appears to contain a list of card-based transactions with commonly associated details such as the date and time at which the transaction occurred, amount of the transaction, etc., but also information on the Merchant, including Merchant MCC which corresponds with the broad category of service or product offered by that particular business. We will explore the classification of the  shortly."
   ]
  },
  {
   "cell_type": "code",
   "execution_count": 5,
   "metadata": {},
   "outputs": [
    {
     "data": {
      "text/html": [
       "<div>\n",
       "<style scoped>\n",
       "    .dataframe tbody tr th:only-of-type {\n",
       "        vertical-align: middle;\n",
       "    }\n",
       "\n",
       "    .dataframe tbody tr th {\n",
       "        vertical-align: top;\n",
       "    }\n",
       "\n",
       "    .dataframe thead th {\n",
       "        text-align: right;\n",
       "    }\n",
       "</style>\n",
       "<table border=\"1\" class=\"dataframe\">\n",
       "  <thead>\n",
       "    <tr style=\"text-align: right;\">\n",
       "      <th></th>\n",
       "      <th>User</th>\n",
       "      <th>Gender</th>\n",
       "      <th>Current Age</th>\n",
       "      <th>Retirement Age</th>\n",
       "      <th>Yearly Income - Person</th>\n",
       "      <th>Total Debt</th>\n",
       "      <th>FICO Score</th>\n",
       "      <th>Num Credit Cards</th>\n",
       "    </tr>\n",
       "  </thead>\n",
       "  <tbody>\n",
       "    <tr>\n",
       "      <th>0</th>\n",
       "      <td>1</td>\n",
       "      <td>Female</td>\n",
       "      <td>53</td>\n",
       "      <td>66</td>\n",
       "      <td>$59696</td>\n",
       "      <td>$127613</td>\n",
       "      <td>787</td>\n",
       "      <td>5</td>\n",
       "    </tr>\n",
       "    <tr>\n",
       "      <th>1</th>\n",
       "      <td>2</td>\n",
       "      <td>Female</td>\n",
       "      <td>53</td>\n",
       "      <td>68</td>\n",
       "      <td>$77254</td>\n",
       "      <td>$191349</td>\n",
       "      <td>701</td>\n",
       "      <td>5</td>\n",
       "    </tr>\n",
       "    <tr>\n",
       "      <th>2</th>\n",
       "      <td>3</td>\n",
       "      <td>Female</td>\n",
       "      <td>81</td>\n",
       "      <td>67</td>\n",
       "      <td>$33483</td>\n",
       "      <td>$196</td>\n",
       "      <td>698</td>\n",
       "      <td>5</td>\n",
       "    </tr>\n",
       "  </tbody>\n",
       "</table>\n",
       "</div>"
      ],
      "text/plain": [
       "   User  Gender  Current Age  Retirement Age Yearly Income - Person  \\\n",
       "0     1  Female           53              66                 $59696   \n",
       "1     2  Female           53              68                 $77254   \n",
       "2     3  Female           81              67                 $33483   \n",
       "\n",
       "  Total Debt  FICO Score  Num Credit Cards  \n",
       "0    $127613         787                 5  \n",
       "1    $191349         701                 5  \n",
       "2       $196         698                 5  "
      ]
     },
     "execution_count": 5,
     "metadata": {},
     "output_type": "execute_result"
    }
   ],
   "source": [
    "users_df.head(3)"
   ]
  },
  {
   "cell_type": "markdown",
   "metadata": {},
   "source": [
    "This data set contains information on the customer, including income and credit score."
   ]
  },
  {
   "cell_type": "markdown",
   "metadata": {},
   "source": [
    "Let's begin working on the *transactions* dataset."
   ]
  },
  {
   "cell_type": "code",
   "execution_count": 6,
   "metadata": {},
   "outputs": [
    {
     "name": "stdout",
     "output_type": "stream",
     "text": [
      "<class 'pandas.core.frame.DataFrame'>\n",
      "RangeIndex: 1227570 entries, 0 to 1227569\n",
      "Data columns (total 9 columns):\n",
      " #   Column          Non-Null Count    Dtype         \n",
      "---  ------          --------------    -----         \n",
      " 0   User            1227570 non-null  int64         \n",
      " 1   Amount          1227570 non-null  object        \n",
      " 2   Use Chip        1227570 non-null  object        \n",
      " 3   Merchant Name   1227570 non-null  int64         \n",
      " 4   Merchant State  1227570 non-null  object        \n",
      " 5   MCC             1227570 non-null  int64         \n",
      " 6   Year            1227570 non-null  int64         \n",
      " 7   Date            1227570 non-null  object        \n",
      " 8   Datetime        1227570 non-null  datetime64[ns]\n",
      "dtypes: datetime64[ns](1), int64(4), object(4)\n",
      "memory usage: 84.3+ MB\n"
     ]
    }
   ],
   "source": [
    "transactions_df.info()"
   ]
  },
  {
   "cell_type": "markdown",
   "metadata": {},
   "source": [
    "First, we'll convert the Amount column to a numeric type, then we'll replace the values in values in the MCC column with their corresponding business classification."
   ]
  },
  {
   "cell_type": "code",
   "execution_count": 7,
   "metadata": {},
   "outputs": [
    {
     "name": "stderr",
     "output_type": "stream",
     "text": [
      "<ipython-input-7-2c7c96baae7a>:1: FutureWarning: The default value of regex will change from True to False in a future version. In addition, single character regular expressions will*not* be treated as literal strings when regex=True.\n",
      "  transactions_df['Amount'] = transactions_df['Amount'].str.replace(\n"
     ]
    }
   ],
   "source": [
    "transactions_df['Amount'] = transactions_df['Amount'].str.replace(\n",
    "    '$',\n",
    "    ''\n",
    ").astype(float)\n",
    "\n",
    "transactions_df['User'] = transactions_df['User'].astype(object)\n",
    "transactions_df['Merchant Name'] = transactions_df['Merchant Name'].astype(object)\n",
    "transactions_df['Merchant State'] = pd.Categorical(transactions_df['Merchant State'])\n",
    "transactions_df['Year'] = pd.Categorical(transactions_df['Year'])"
   ]
  },
  {
   "cell_type": "code",
   "execution_count": 8,
   "metadata": {},
   "outputs": [],
   "source": [
    "# For reference\n",
    "mcc_dict = {\n",
    "    '0001-1499': 'Agricultural Services',\n",
    "    '1500-2999': 'Contracted Services',\n",
    "    '3000-3499': 'Travel Services',\n",
    "    '4000-4799': 'Transportation Services',\n",
    "    '4800-4999': 'Utility Services',\n",
    "    '5000-5599': 'Retail Outlet Services',\n",
    "    '5600-5699': 'Clothing Stores',\n",
    "    '5700-7299': 'Miscellaneous Stores',\n",
    "    '7300-7999': 'Business Services',\n",
    "    '8000-8999': 'Professional Services and Membership Organizations',\n",
    "    '9000-9999': 'Government Services'\n",
    "    }\n"
   ]
  },
  {
   "cell_type": "code",
   "execution_count": 9,
   "metadata": {},
   "outputs": [],
   "source": [
    "bins = [1, 1500, 3000, 4000, 4800, 5000, 5600, 5700, 7300, 8000, 9000, 9999]\n",
    "labels = [\n",
    "    'Agricultural Services',\n",
    "    'Contracted Services',\n",
    "    'Travel Services',\n",
    "    'Transportation Services',\n",
    "    'Utility Services',\n",
    "    'Retail Outlet Services',\n",
    "    'Clothing Stores',\n",
    "    'Miscelleanous Stores',\n",
    "    'Business Services',\n",
    "    'Professional Services and Membership Organizations',\n",
    "    'Government Services'\n",
    "]\n",
    "\n",
    "transactions_df['MCC Category'] = pd.cut(\n",
    "    transactions_df.MCC, \n",
    "    bins=bins, \n",
    "    labels=labels,  \n",
    "    right=False, \n",
    "    include_lowest=True\n",
    "    )"
   ]
  },
  {
   "cell_type": "code",
   "execution_count": 10,
   "metadata": {},
   "outputs": [
    {
     "data": {
      "text/plain": [
       "User              0\n",
       "Amount            0\n",
       "Use Chip          0\n",
       "Merchant Name     0\n",
       "Merchant State    0\n",
       "MCC               0\n",
       "Year              0\n",
       "Date              0\n",
       "Datetime          0\n",
       "MCC Category      0\n",
       "dtype: int64"
      ]
     },
     "execution_count": 10,
     "metadata": {},
     "output_type": "execute_result"
    }
   ],
   "source": [
    "transactions_df.isna().sum()"
   ]
  },
  {
   "cell_type": "code",
   "execution_count": 11,
   "metadata": {},
   "outputs": [
    {
     "name": "stdout",
     "output_type": "stream",
     "text": [
      "<class 'pandas.core.frame.DataFrame'>\n",
      "RangeIndex: 2000 entries, 0 to 1999\n",
      "Data columns (total 8 columns):\n",
      " #   Column                  Non-Null Count  Dtype \n",
      "---  ------                  --------------  ----- \n",
      " 0   User                    2000 non-null   int64 \n",
      " 1   Gender                  2000 non-null   object\n",
      " 2   Current Age             2000 non-null   int64 \n",
      " 3   Retirement Age          2000 non-null   int64 \n",
      " 4   Yearly Income - Person  2000 non-null   object\n",
      " 5   Total Debt              2000 non-null   object\n",
      " 6   FICO Score              2000 non-null   int64 \n",
      " 7   Num Credit Cards        2000 non-null   int64 \n",
      "dtypes: int64(5), object(3)\n",
      "memory usage: 125.1+ KB\n"
     ]
    }
   ],
   "source": [
    "users_df.info()"
   ]
  },
  {
   "cell_type": "code",
   "execution_count": 12,
   "metadata": {},
   "outputs": [
    {
     "name": "stderr",
     "output_type": "stream",
     "text": [
      "<ipython-input-12-55451ff73c7d>:5: FutureWarning: The default value of regex will change from True to False in a future version. In addition, single character regular expressions will*not* be treated as literal strings when regex=True.\n",
      "  users_df[i] = users_df[i].str.replace(\n"
     ]
    }
   ],
   "source": [
    "users_df['User'] = users_df['User'].astype(object)\n",
    "\n",
    "lst = ['Yearly Income - Person', 'Total Debt']\n",
    "for i in lst:\n",
    "    users_df[i] = users_df[i].str.replace(\n",
    "        '$',\n",
    "        ''\n",
    "    ).astype(int)\n",
    "\n",
    "users_df['Debt/Income'] = users_df['Total Debt']/users_df['Yearly Income - Person']\n",
    "\n",
    "users_df['Gender'] = np.where(\n",
    "    users_df['Gender']=='Male',\n",
    "    0,\n",
    "    1\n",
    ")"
   ]
  },
  {
   "cell_type": "code",
   "execution_count": 13,
   "metadata": {},
   "outputs": [
    {
     "name": "stdout",
     "output_type": "stream",
     "text": [
      "<class 'pandas.core.frame.DataFrame'>\n",
      "RangeIndex: 2000 entries, 0 to 1999\n",
      "Data columns (total 9 columns):\n",
      " #   Column                  Non-Null Count  Dtype  \n",
      "---  ------                  --------------  -----  \n",
      " 0   User                    2000 non-null   object \n",
      " 1   Gender                  2000 non-null   int64  \n",
      " 2   Current Age             2000 non-null   int64  \n",
      " 3   Retirement Age          2000 non-null   int64  \n",
      " 4   Yearly Income - Person  2000 non-null   int64  \n",
      " 5   Total Debt              2000 non-null   int64  \n",
      " 6   FICO Score              2000 non-null   int64  \n",
      " 7   Num Credit Cards        2000 non-null   int64  \n",
      " 8   Debt/Income             2000 non-null   float64\n",
      "dtypes: float64(1), int64(7), object(1)\n",
      "memory usage: 140.8+ KB\n"
     ]
    }
   ],
   "source": [
    "users_df.info()"
   ]
  },
  {
   "cell_type": "code",
   "execution_count": 14,
   "metadata": {},
   "outputs": [],
   "source": [
    "transaction_totals = transactions_df.groupby(['User', 'MCC Category']).sum()['Amount'].reset_index()\n",
    "\n",
    "transaction_volumes = transactions_df.groupby(['User', 'MCC Category']).count()['Amount'].reset_index()"
   ]
  },
  {
   "cell_type": "code",
   "execution_count": 15,
   "metadata": {},
   "outputs": [],
   "source": [
    "transaction_agg_by_user = pd.merge(\n",
    "    transaction_totals,\n",
    "    transaction_volumes,\n",
    "    how='left',\n",
    "    on=['User', 'MCC Category']\n",
    ")"
   ]
  },
  {
   "cell_type": "code",
   "execution_count": 16,
   "metadata": {},
   "outputs": [],
   "source": [
    "transaction_agg_by_user.rename(\n",
    "    columns={\n",
    "        'Amount_x':'TotalSum',\n",
    "        'Amount_y':'TotalVol'\n",
    "    },\n",
    "    inplace=True\n",
    ")"
   ]
  },
  {
   "cell_type": "code",
   "execution_count": 17,
   "metadata": {},
   "outputs": [],
   "source": [
    "# Create new dataframe from amount spent by user per MCC\n",
    "main_df = pd.merge(\n",
    "    transaction_agg_by_user,\n",
    "    users_df,\n",
    "    on='User',\n",
    "    how='right'\n",
    ")"
   ]
  },
  {
   "cell_type": "code",
   "execution_count": 18,
   "metadata": {},
   "outputs": [],
   "source": [
    "# Drop customers with no conducted transactions\n",
    "main_df = main_df[~main_df['TotalVol'].isnull()]"
   ]
  },
  {
   "cell_type": "code",
   "execution_count": 19,
   "metadata": {},
   "outputs": [],
   "source": [
    "# Define K-means model\n",
    "kmeans_model = KMeans(init='k-means++',  max_iter=400, random_state=42)"
   ]
  },
  {
   "cell_type": "code",
   "execution_count": 20,
   "metadata": {},
   "outputs": [
    {
     "data": {
      "text/html": [
       "<div>\n",
       "<style scoped>\n",
       "    .dataframe tbody tr th:only-of-type {\n",
       "        vertical-align: middle;\n",
       "    }\n",
       "\n",
       "    .dataframe tbody tr th {\n",
       "        vertical-align: top;\n",
       "    }\n",
       "\n",
       "    .dataframe thead th {\n",
       "        text-align: right;\n",
       "    }\n",
       "</style>\n",
       "<table border=\"1\" class=\"dataframe\">\n",
       "  <thead>\n",
       "    <tr style=\"text-align: right;\">\n",
       "      <th></th>\n",
       "      <th>User</th>\n",
       "      <th>MCC Category</th>\n",
       "      <th>TotalSum</th>\n",
       "      <th>TotalVol</th>\n",
       "      <th>Gender</th>\n",
       "      <th>Current Age</th>\n",
       "      <th>Retirement Age</th>\n",
       "      <th>Yearly Income - Person</th>\n",
       "      <th>Total Debt</th>\n",
       "      <th>FICO Score</th>\n",
       "      <th>Num Credit Cards</th>\n",
       "      <th>Debt/Income</th>\n",
       "    </tr>\n",
       "  </thead>\n",
       "  <tbody>\n",
       "    <tr>\n",
       "      <th>0</th>\n",
       "      <td>1.0</td>\n",
       "      <td>Agricultural Services</td>\n",
       "      <td>0.00</td>\n",
       "      <td>0.0</td>\n",
       "      <td>1</td>\n",
       "      <td>53</td>\n",
       "      <td>66</td>\n",
       "      <td>59696</td>\n",
       "      <td>127613</td>\n",
       "      <td>787</td>\n",
       "      <td>5</td>\n",
       "      <td>2.137714</td>\n",
       "    </tr>\n",
       "    <tr>\n",
       "      <th>1</th>\n",
       "      <td>1.0</td>\n",
       "      <td>Contracted Services</td>\n",
       "      <td>163.06</td>\n",
       "      <td>1.0</td>\n",
       "      <td>1</td>\n",
       "      <td>53</td>\n",
       "      <td>66</td>\n",
       "      <td>59696</td>\n",
       "      <td>127613</td>\n",
       "      <td>787</td>\n",
       "      <td>5</td>\n",
       "      <td>2.137714</td>\n",
       "    </tr>\n",
       "    <tr>\n",
       "      <th>2</th>\n",
       "      <td>1.0</td>\n",
       "      <td>Travel Services</td>\n",
       "      <td>40197.70</td>\n",
       "      <td>243.0</td>\n",
       "      <td>1</td>\n",
       "      <td>53</td>\n",
       "      <td>66</td>\n",
       "      <td>59696</td>\n",
       "      <td>127613</td>\n",
       "      <td>787</td>\n",
       "      <td>5</td>\n",
       "      <td>2.137714</td>\n",
       "    </tr>\n",
       "    <tr>\n",
       "      <th>3</th>\n",
       "      <td>1.0</td>\n",
       "      <td>Transportation Services</td>\n",
       "      <td>695.83</td>\n",
       "      <td>17.0</td>\n",
       "      <td>1</td>\n",
       "      <td>53</td>\n",
       "      <td>66</td>\n",
       "      <td>59696</td>\n",
       "      <td>127613</td>\n",
       "      <td>787</td>\n",
       "      <td>5</td>\n",
       "      <td>2.137714</td>\n",
       "    </tr>\n",
       "    <tr>\n",
       "      <th>4</th>\n",
       "      <td>1.0</td>\n",
       "      <td>Utility Services</td>\n",
       "      <td>46069.11</td>\n",
       "      <td>358.0</td>\n",
       "      <td>1</td>\n",
       "      <td>53</td>\n",
       "      <td>66</td>\n",
       "      <td>59696</td>\n",
       "      <td>127613</td>\n",
       "      <td>787</td>\n",
       "      <td>5</td>\n",
       "      <td>2.137714</td>\n",
       "    </tr>\n",
       "  </tbody>\n",
       "</table>\n",
       "</div>"
      ],
      "text/plain": [
       "   User             MCC Category  TotalSum  TotalVol  Gender  Current Age  \\\n",
       "0   1.0    Agricultural Services      0.00       0.0       1           53   \n",
       "1   1.0      Contracted Services    163.06       1.0       1           53   \n",
       "2   1.0          Travel Services  40197.70     243.0       1           53   \n",
       "3   1.0  Transportation Services    695.83      17.0       1           53   \n",
       "4   1.0         Utility Services  46069.11     358.0       1           53   \n",
       "\n",
       "   Retirement Age  Yearly Income - Person  Total Debt  FICO Score  \\\n",
       "0              66                   59696      127613         787   \n",
       "1              66                   59696      127613         787   \n",
       "2              66                   59696      127613         787   \n",
       "3              66                   59696      127613         787   \n",
       "4              66                   59696      127613         787   \n",
       "\n",
       "   Num Credit Cards  Debt/Income  \n",
       "0                 5     2.137714  \n",
       "1                 5     2.137714  \n",
       "2                 5     2.137714  \n",
       "3                 5     2.137714  \n",
       "4                 5     2.137714  "
      ]
     },
     "execution_count": 20,
     "metadata": {},
     "output_type": "execute_result"
    }
   ],
   "source": [
    "main_df.head()"
   ]
  },
  {
   "cell_type": "code",
   "execution_count": 21,
   "metadata": {},
   "outputs": [
    {
     "data": {
      "text/plain": [
       "KMeans(max_iter=400, random_state=42)"
      ]
     },
     "execution_count": 21,
     "metadata": {},
     "output_type": "execute_result"
    }
   ],
   "source": [
    "# Train the model\n",
    "kmeans_model.fit(\n",
    "    main_df[['TotalSum', 'TotalVol', 'Gender', 'Current Age', 'Yearly Income - Person', 'Total Debt']]\n",
    ")"
   ]
  },
  {
   "cell_type": "code",
   "execution_count": 22,
   "metadata": {},
   "outputs": [],
   "source": [
    "# Create the K means model for different values of K\n",
    "def try_different_clusters(K, data):\n",
    "       \n",
    "    cluster_values = list(range(1, K+1))\n",
    "    inertias=[]\n",
    "    \n",
    "    for c in cluster_values:\n",
    "        model = KMeans(\n",
    "            n_clusters=c,\n",
    "            init='k-means++',\n",
    "            max_iter=400,\n",
    "            random_state=60)\n",
    "        model.fit(data)\n",
    "        inertias.append(model.inertia_)\n",
    "    \n",
    "    return inertias"
   ]
  },
  {
   "cell_type": "code",
   "execution_count": 23,
   "metadata": {},
   "outputs": [],
   "source": [
    "outputs = try_different_clusters(\n",
    "    12, \n",
    "    main_df[['TotalSum', 'TotalVol', 'Gender', 'Current Age', 'Yearly Income - Person', 'Total Debt']]\n",
    "    )\n",
    "distances = pd.DataFrame({\"clusters\": list(range(1, 13)),\"sum of squared distances\": outputs})"
   ]
  },
  {
   "cell_type": "code",
   "execution_count": 24,
   "metadata": {},
   "outputs": [
    {
     "data": {
      "application/vnd.plotly.v1+json": {
       "config": {
        "plotlyServerURL": "https://plot.ly"
       },
       "data": [
        {
         "type": "scatter",
         "x": [
          1,
          2,
          3,
          4,
          5,
          6,
          7,
          8,
          9,
          10,
          11,
          12
         ],
         "y": [
          16040685119464.223,
          11018418922124.246,
          7661054268612.616,
          5519902957663.472,
          4706672010915.803,
          4096186634841.9385,
          3599519965887.508,
          3250079823288.5615,
          2904641570836.788,
          2632031431350.852,
          2406221555771.3384,
          2190008951971.6387
         ]
        }
       ],
       "layout": {
        "template": {
         "data": {
          "bar": [
           {
            "error_x": {
             "color": "#2a3f5f"
            },
            "error_y": {
             "color": "#2a3f5f"
            },
            "marker": {
             "line": {
              "color": "#E5ECF6",
              "width": 0.5
             },
             "pattern": {
              "fillmode": "overlay",
              "size": 10,
              "solidity": 0.2
             }
            },
            "type": "bar"
           }
          ],
          "barpolar": [
           {
            "marker": {
             "line": {
              "color": "#E5ECF6",
              "width": 0.5
             },
             "pattern": {
              "fillmode": "overlay",
              "size": 10,
              "solidity": 0.2
             }
            },
            "type": "barpolar"
           }
          ],
          "carpet": [
           {
            "aaxis": {
             "endlinecolor": "#2a3f5f",
             "gridcolor": "white",
             "linecolor": "white",
             "minorgridcolor": "white",
             "startlinecolor": "#2a3f5f"
            },
            "baxis": {
             "endlinecolor": "#2a3f5f",
             "gridcolor": "white",
             "linecolor": "white",
             "minorgridcolor": "white",
             "startlinecolor": "#2a3f5f"
            },
            "type": "carpet"
           }
          ],
          "choropleth": [
           {
            "colorbar": {
             "outlinewidth": 0,
             "ticks": ""
            },
            "type": "choropleth"
           }
          ],
          "contour": [
           {
            "colorbar": {
             "outlinewidth": 0,
             "ticks": ""
            },
            "colorscale": [
             [
              0,
              "#0d0887"
             ],
             [
              0.1111111111111111,
              "#46039f"
             ],
             [
              0.2222222222222222,
              "#7201a8"
             ],
             [
              0.3333333333333333,
              "#9c179e"
             ],
             [
              0.4444444444444444,
              "#bd3786"
             ],
             [
              0.5555555555555556,
              "#d8576b"
             ],
             [
              0.6666666666666666,
              "#ed7953"
             ],
             [
              0.7777777777777778,
              "#fb9f3a"
             ],
             [
              0.8888888888888888,
              "#fdca26"
             ],
             [
              1,
              "#f0f921"
             ]
            ],
            "type": "contour"
           }
          ],
          "contourcarpet": [
           {
            "colorbar": {
             "outlinewidth": 0,
             "ticks": ""
            },
            "type": "contourcarpet"
           }
          ],
          "heatmap": [
           {
            "colorbar": {
             "outlinewidth": 0,
             "ticks": ""
            },
            "colorscale": [
             [
              0,
              "#0d0887"
             ],
             [
              0.1111111111111111,
              "#46039f"
             ],
             [
              0.2222222222222222,
              "#7201a8"
             ],
             [
              0.3333333333333333,
              "#9c179e"
             ],
             [
              0.4444444444444444,
              "#bd3786"
             ],
             [
              0.5555555555555556,
              "#d8576b"
             ],
             [
              0.6666666666666666,
              "#ed7953"
             ],
             [
              0.7777777777777778,
              "#fb9f3a"
             ],
             [
              0.8888888888888888,
              "#fdca26"
             ],
             [
              1,
              "#f0f921"
             ]
            ],
            "type": "heatmap"
           }
          ],
          "heatmapgl": [
           {
            "colorbar": {
             "outlinewidth": 0,
             "ticks": ""
            },
            "colorscale": [
             [
              0,
              "#0d0887"
             ],
             [
              0.1111111111111111,
              "#46039f"
             ],
             [
              0.2222222222222222,
              "#7201a8"
             ],
             [
              0.3333333333333333,
              "#9c179e"
             ],
             [
              0.4444444444444444,
              "#bd3786"
             ],
             [
              0.5555555555555556,
              "#d8576b"
             ],
             [
              0.6666666666666666,
              "#ed7953"
             ],
             [
              0.7777777777777778,
              "#fb9f3a"
             ],
             [
              0.8888888888888888,
              "#fdca26"
             ],
             [
              1,
              "#f0f921"
             ]
            ],
            "type": "heatmapgl"
           }
          ],
          "histogram": [
           {
            "marker": {
             "pattern": {
              "fillmode": "overlay",
              "size": 10,
              "solidity": 0.2
             }
            },
            "type": "histogram"
           }
          ],
          "histogram2d": [
           {
            "colorbar": {
             "outlinewidth": 0,
             "ticks": ""
            },
            "colorscale": [
             [
              0,
              "#0d0887"
             ],
             [
              0.1111111111111111,
              "#46039f"
             ],
             [
              0.2222222222222222,
              "#7201a8"
             ],
             [
              0.3333333333333333,
              "#9c179e"
             ],
             [
              0.4444444444444444,
              "#bd3786"
             ],
             [
              0.5555555555555556,
              "#d8576b"
             ],
             [
              0.6666666666666666,
              "#ed7953"
             ],
             [
              0.7777777777777778,
              "#fb9f3a"
             ],
             [
              0.8888888888888888,
              "#fdca26"
             ],
             [
              1,
              "#f0f921"
             ]
            ],
            "type": "histogram2d"
           }
          ],
          "histogram2dcontour": [
           {
            "colorbar": {
             "outlinewidth": 0,
             "ticks": ""
            },
            "colorscale": [
             [
              0,
              "#0d0887"
             ],
             [
              0.1111111111111111,
              "#46039f"
             ],
             [
              0.2222222222222222,
              "#7201a8"
             ],
             [
              0.3333333333333333,
              "#9c179e"
             ],
             [
              0.4444444444444444,
              "#bd3786"
             ],
             [
              0.5555555555555556,
              "#d8576b"
             ],
             [
              0.6666666666666666,
              "#ed7953"
             ],
             [
              0.7777777777777778,
              "#fb9f3a"
             ],
             [
              0.8888888888888888,
              "#fdca26"
             ],
             [
              1,
              "#f0f921"
             ]
            ],
            "type": "histogram2dcontour"
           }
          ],
          "mesh3d": [
           {
            "colorbar": {
             "outlinewidth": 0,
             "ticks": ""
            },
            "type": "mesh3d"
           }
          ],
          "parcoords": [
           {
            "line": {
             "colorbar": {
              "outlinewidth": 0,
              "ticks": ""
             }
            },
            "type": "parcoords"
           }
          ],
          "pie": [
           {
            "automargin": true,
            "type": "pie"
           }
          ],
          "scatter": [
           {
            "fillpattern": {
             "fillmode": "overlay",
             "size": 10,
             "solidity": 0.2
            },
            "type": "scatter"
           }
          ],
          "scatter3d": [
           {
            "line": {
             "colorbar": {
              "outlinewidth": 0,
              "ticks": ""
             }
            },
            "marker": {
             "colorbar": {
              "outlinewidth": 0,
              "ticks": ""
             }
            },
            "type": "scatter3d"
           }
          ],
          "scattercarpet": [
           {
            "marker": {
             "colorbar": {
              "outlinewidth": 0,
              "ticks": ""
             }
            },
            "type": "scattercarpet"
           }
          ],
          "scattergeo": [
           {
            "marker": {
             "colorbar": {
              "outlinewidth": 0,
              "ticks": ""
             }
            },
            "type": "scattergeo"
           }
          ],
          "scattergl": [
           {
            "marker": {
             "colorbar": {
              "outlinewidth": 0,
              "ticks": ""
             }
            },
            "type": "scattergl"
           }
          ],
          "scattermapbox": [
           {
            "marker": {
             "colorbar": {
              "outlinewidth": 0,
              "ticks": ""
             }
            },
            "type": "scattermapbox"
           }
          ],
          "scatterpolar": [
           {
            "marker": {
             "colorbar": {
              "outlinewidth": 0,
              "ticks": ""
             }
            },
            "type": "scatterpolar"
           }
          ],
          "scatterpolargl": [
           {
            "marker": {
             "colorbar": {
              "outlinewidth": 0,
              "ticks": ""
             }
            },
            "type": "scatterpolargl"
           }
          ],
          "scatterternary": [
           {
            "marker": {
             "colorbar": {
              "outlinewidth": 0,
              "ticks": ""
             }
            },
            "type": "scatterternary"
           }
          ],
          "surface": [
           {
            "colorbar": {
             "outlinewidth": 0,
             "ticks": ""
            },
            "colorscale": [
             [
              0,
              "#0d0887"
             ],
             [
              0.1111111111111111,
              "#46039f"
             ],
             [
              0.2222222222222222,
              "#7201a8"
             ],
             [
              0.3333333333333333,
              "#9c179e"
             ],
             [
              0.4444444444444444,
              "#bd3786"
             ],
             [
              0.5555555555555556,
              "#d8576b"
             ],
             [
              0.6666666666666666,
              "#ed7953"
             ],
             [
              0.7777777777777778,
              "#fb9f3a"
             ],
             [
              0.8888888888888888,
              "#fdca26"
             ],
             [
              1,
              "#f0f921"
             ]
            ],
            "type": "surface"
           }
          ],
          "table": [
           {
            "cells": {
             "fill": {
              "color": "#EBF0F8"
             },
             "line": {
              "color": "white"
             }
            },
            "header": {
             "fill": {
              "color": "#C8D4E3"
             },
             "line": {
              "color": "white"
             }
            },
            "type": "table"
           }
          ]
         },
         "layout": {
          "annotationdefaults": {
           "arrowcolor": "#2a3f5f",
           "arrowhead": 0,
           "arrowwidth": 1
          },
          "autotypenumbers": "strict",
          "coloraxis": {
           "colorbar": {
            "outlinewidth": 0,
            "ticks": ""
           }
          },
          "colorscale": {
           "diverging": [
            [
             0,
             "#8e0152"
            ],
            [
             0.1,
             "#c51b7d"
            ],
            [
             0.2,
             "#de77ae"
            ],
            [
             0.3,
             "#f1b6da"
            ],
            [
             0.4,
             "#fde0ef"
            ],
            [
             0.5,
             "#f7f7f7"
            ],
            [
             0.6,
             "#e6f5d0"
            ],
            [
             0.7,
             "#b8e186"
            ],
            [
             0.8,
             "#7fbc41"
            ],
            [
             0.9,
             "#4d9221"
            ],
            [
             1,
             "#276419"
            ]
           ],
           "sequential": [
            [
             0,
             "#0d0887"
            ],
            [
             0.1111111111111111,
             "#46039f"
            ],
            [
             0.2222222222222222,
             "#7201a8"
            ],
            [
             0.3333333333333333,
             "#9c179e"
            ],
            [
             0.4444444444444444,
             "#bd3786"
            ],
            [
             0.5555555555555556,
             "#d8576b"
            ],
            [
             0.6666666666666666,
             "#ed7953"
            ],
            [
             0.7777777777777778,
             "#fb9f3a"
            ],
            [
             0.8888888888888888,
             "#fdca26"
            ],
            [
             1,
             "#f0f921"
            ]
           ],
           "sequentialminus": [
            [
             0,
             "#0d0887"
            ],
            [
             0.1111111111111111,
             "#46039f"
            ],
            [
             0.2222222222222222,
             "#7201a8"
            ],
            [
             0.3333333333333333,
             "#9c179e"
            ],
            [
             0.4444444444444444,
             "#bd3786"
            ],
            [
             0.5555555555555556,
             "#d8576b"
            ],
            [
             0.6666666666666666,
             "#ed7953"
            ],
            [
             0.7777777777777778,
             "#fb9f3a"
            ],
            [
             0.8888888888888888,
             "#fdca26"
            ],
            [
             1,
             "#f0f921"
            ]
           ]
          },
          "colorway": [
           "#636efa",
           "#EF553B",
           "#00cc96",
           "#ab63fa",
           "#FFA15A",
           "#19d3f3",
           "#FF6692",
           "#B6E880",
           "#FF97FF",
           "#FECB52"
          ],
          "font": {
           "color": "#2a3f5f"
          },
          "geo": {
           "bgcolor": "white",
           "lakecolor": "white",
           "landcolor": "#E5ECF6",
           "showlakes": true,
           "showland": true,
           "subunitcolor": "white"
          },
          "hoverlabel": {
           "align": "left"
          },
          "hovermode": "closest",
          "mapbox": {
           "style": "light"
          },
          "paper_bgcolor": "white",
          "plot_bgcolor": "#E5ECF6",
          "polar": {
           "angularaxis": {
            "gridcolor": "white",
            "linecolor": "white",
            "ticks": ""
           },
           "bgcolor": "#E5ECF6",
           "radialaxis": {
            "gridcolor": "white",
            "linecolor": "white",
            "ticks": ""
           }
          },
          "scene": {
           "xaxis": {
            "backgroundcolor": "#E5ECF6",
            "gridcolor": "white",
            "gridwidth": 2,
            "linecolor": "white",
            "showbackground": true,
            "ticks": "",
            "zerolinecolor": "white"
           },
           "yaxis": {
            "backgroundcolor": "#E5ECF6",
            "gridcolor": "white",
            "gridwidth": 2,
            "linecolor": "white",
            "showbackground": true,
            "ticks": "",
            "zerolinecolor": "white"
           },
           "zaxis": {
            "backgroundcolor": "#E5ECF6",
            "gridcolor": "white",
            "gridwidth": 2,
            "linecolor": "white",
            "showbackground": true,
            "ticks": "",
            "zerolinecolor": "white"
           }
          },
          "shapedefaults": {
           "line": {
            "color": "#2a3f5f"
           }
          },
          "ternary": {
           "aaxis": {
            "gridcolor": "white",
            "linecolor": "white",
            "ticks": ""
           },
           "baxis": {
            "gridcolor": "white",
            "linecolor": "white",
            "ticks": ""
           },
           "bgcolor": "#E5ECF6",
           "caxis": {
            "gridcolor": "white",
            "linecolor": "white",
            "ticks": ""
           }
          },
          "title": {
           "x": 0.05
          },
          "xaxis": {
           "automargin": true,
           "gridcolor": "white",
           "linecolor": "white",
           "ticks": "",
           "title": {
            "standoff": 15
           },
           "zerolinecolor": "white",
           "zerolinewidth": 2
          },
          "yaxis": {
           "automargin": true,
           "gridcolor": "white",
           "linecolor": "white",
           "ticks": "",
           "title": {
            "standoff": 15
           },
           "zerolinecolor": "white",
           "zerolinewidth": 2
          }
         }
        },
        "title": {
         "text": "Finding optimal number of clusters using elbow method"
        },
        "xaxis": {
         "dtick": 1,
         "tick0": 1,
         "tickmode": "linear",
         "title": {
          "text": "Number of clusters"
         }
        },
        "yaxis": {
         "title": {
          "text": "Sum of squared distances"
         }
        }
       }
      }
     },
     "metadata": {},
     "output_type": "display_data"
    }
   ],
   "source": [
    "# Finding optimal number of clusters k\n",
    "figure = go.Figure()\n",
    "figure.add_trace(go.Scatter(x=distances[\"clusters\"], y=distances[\"sum of squared distances\"]))\n",
    "\n",
    "figure.update_layout(xaxis = dict(tick0 = 1,dtick = 1,tickmode = 'linear'),                  \n",
    "                  xaxis_title=\"Number of clusters\",\n",
    "                  yaxis_title=\"Sum of squared distances\",\n",
    "                  title_text=\"Finding optimal number of clusters using elbow method\")\n",
    "figure.show()"
   ]
  },
  {
   "cell_type": "code",
   "execution_count": 25,
   "metadata": {},
   "outputs": [
    {
     "data": {
      "text/plain": [
       "array([1, 1, 1, ..., 2, 2, 2], dtype=int32)"
      ]
     },
     "execution_count": 25,
     "metadata": {},
     "output_type": "execute_result"
    }
   ],
   "source": [
    "kmeans_model_new = KMeans(\n",
    "    n_clusters=4,\n",
    "    init='k-means++',\n",
    "    max_iter=400,\n",
    "    random_state=60\n",
    "    )\n",
    "\n",
    "kmeans_model_new.fit_predict(\n",
    "    main_df[['TotalSum', 'TotalVol', 'Gender', 'Current Age', 'Yearly Income - Person', 'Total Debt']]\n",
    ")"
   ]
  },
  {
   "cell_type": "code",
   "execution_count": 26,
   "metadata": {},
   "outputs": [
    {
     "name": "stderr",
     "output_type": "stream",
     "text": [
      "<ipython-input-26-e030eff150c2>:3: RuntimeWarning:\n",
      "\n",
      "overflow encountered in expm1\n",
      "\n"
     ]
    }
   ],
   "source": [
    "# Create data arrays\n",
    "cluster_centers = kmeans_model_new.cluster_centers_\n",
    "data = np.expm1(cluster_centers)\n",
    "points = np.append(data, cluster_centers, axis=1)"
   ]
  },
  {
   "cell_type": "code",
   "execution_count": 27,
   "metadata": {},
   "outputs": [],
   "source": [
    "# Add clusters column to main df\n",
    "points = np.append(points, [[0], [1], [2], [3]], axis=1)\n",
    "main_df[\"clusters\"] = kmeans_model_new.labels_"
   ]
  },
  {
   "cell_type": "code",
   "execution_count": 28,
   "metadata": {},
   "outputs": [
    {
     "data": {
      "text/html": [
       "<div>\n",
       "<style scoped>\n",
       "    .dataframe tbody tr th:only-of-type {\n",
       "        vertical-align: middle;\n",
       "    }\n",
       "\n",
       "    .dataframe tbody tr th {\n",
       "        vertical-align: top;\n",
       "    }\n",
       "\n",
       "    .dataframe thead th {\n",
       "        text-align: right;\n",
       "    }\n",
       "</style>\n",
       "<table border=\"1\" class=\"dataframe\">\n",
       "  <thead>\n",
       "    <tr style=\"text-align: right;\">\n",
       "      <th></th>\n",
       "      <th>TotalSum</th>\n",
       "      <th>TotalVol</th>\n",
       "      <th>Current Age</th>\n",
       "      <th>Yearly Income - Person</th>\n",
       "      <th>Total Debt</th>\n",
       "    </tr>\n",
       "    <tr>\n",
       "      <th>clusters</th>\n",
       "      <th></th>\n",
       "      <th></th>\n",
       "      <th></th>\n",
       "      <th></th>\n",
       "      <th></th>\n",
       "    </tr>\n",
       "  </thead>\n",
       "  <tbody>\n",
       "    <tr>\n",
       "      <th>0</th>\n",
       "      <td>14866.842734</td>\n",
       "      <td>414.081616</td>\n",
       "      <td>47.871632</td>\n",
       "      <td>39858.301902</td>\n",
       "      <td>30462.290016</td>\n",
       "    </tr>\n",
       "    <tr>\n",
       "      <th>1</th>\n",
       "      <td>11957.497081</td>\n",
       "      <td>298.271380</td>\n",
       "      <td>36.840365</td>\n",
       "      <td>52286.737742</td>\n",
       "      <td>96792.403649</td>\n",
       "    </tr>\n",
       "    <tr>\n",
       "      <th>2</th>\n",
       "      <td>29124.598629</td>\n",
       "      <td>358.653226</td>\n",
       "      <td>42.612903</td>\n",
       "      <td>124988.233871</td>\n",
       "      <td>233333.088710</td>\n",
       "    </tr>\n",
       "    <tr>\n",
       "      <th>3</th>\n",
       "      <td>234896.819000</td>\n",
       "      <td>4986.775000</td>\n",
       "      <td>54.350000</td>\n",
       "      <td>60155.212500</td>\n",
       "      <td>70448.387500</td>\n",
       "    </tr>\n",
       "  </tbody>\n",
       "</table>\n",
       "</div>"
      ],
      "text/plain": [
       "               TotalSum     TotalVol  Current Age  Yearly Income - Person  \\\n",
       "clusters                                                                    \n",
       "0          14866.842734   414.081616    47.871632            39858.301902   \n",
       "1          11957.497081   298.271380    36.840365            52286.737742   \n",
       "2          29124.598629   358.653226    42.612903           124988.233871   \n",
       "3         234896.819000  4986.775000    54.350000            60155.212500   \n",
       "\n",
       "             Total Debt  \n",
       "clusters                 \n",
       "0          30462.290016  \n",
       "1          96792.403649  \n",
       "2         233333.088710  \n",
       "3          70448.387500  "
      ]
     },
     "execution_count": 28,
     "metadata": {},
     "output_type": "execute_result"
    }
   ],
   "source": [
    "main_df.groupby('clusters').mean()[['TotalSum', 'TotalVol', 'Current Age', 'Yearly Income - Person', 'Total Debt']]"
   ]
  },
  {
   "cell_type": "code",
   "execution_count": 29,
   "metadata": {},
   "outputs": [
    {
     "data": {
      "text/html": [
       "<div>\n",
       "<style scoped>\n",
       "    .dataframe tbody tr th:only-of-type {\n",
       "        vertical-align: middle;\n",
       "    }\n",
       "\n",
       "    .dataframe tbody tr th {\n",
       "        vertical-align: top;\n",
       "    }\n",
       "\n",
       "    .dataframe thead th {\n",
       "        text-align: right;\n",
       "    }\n",
       "</style>\n",
       "<table border=\"1\" class=\"dataframe\">\n",
       "  <thead>\n",
       "    <tr style=\"text-align: right;\">\n",
       "      <th></th>\n",
       "      <th>User</th>\n",
       "      <th>MCC Category</th>\n",
       "      <th>TotalSum</th>\n",
       "      <th>TotalVol</th>\n",
       "      <th>Gender</th>\n",
       "      <th>Current Age</th>\n",
       "      <th>Retirement Age</th>\n",
       "      <th>Yearly Income - Person</th>\n",
       "      <th>Total Debt</th>\n",
       "      <th>FICO Score</th>\n",
       "      <th>Num Credit Cards</th>\n",
       "      <th>Debt/Income</th>\n",
       "      <th>clusters</th>\n",
       "    </tr>\n",
       "  </thead>\n",
       "  <tbody>\n",
       "    <tr>\n",
       "      <th>0</th>\n",
       "      <td>1.0</td>\n",
       "      <td>Agricultural Services</td>\n",
       "      <td>0.00</td>\n",
       "      <td>0.0</td>\n",
       "      <td>1</td>\n",
       "      <td>53</td>\n",
       "      <td>66</td>\n",
       "      <td>59696</td>\n",
       "      <td>127613</td>\n",
       "      <td>787</td>\n",
       "      <td>5</td>\n",
       "      <td>2.137714</td>\n",
       "      <td>1</td>\n",
       "    </tr>\n",
       "    <tr>\n",
       "      <th>1</th>\n",
       "      <td>1.0</td>\n",
       "      <td>Contracted Services</td>\n",
       "      <td>163.06</td>\n",
       "      <td>1.0</td>\n",
       "      <td>1</td>\n",
       "      <td>53</td>\n",
       "      <td>66</td>\n",
       "      <td>59696</td>\n",
       "      <td>127613</td>\n",
       "      <td>787</td>\n",
       "      <td>5</td>\n",
       "      <td>2.137714</td>\n",
       "      <td>1</td>\n",
       "    </tr>\n",
       "    <tr>\n",
       "      <th>2</th>\n",
       "      <td>1.0</td>\n",
       "      <td>Travel Services</td>\n",
       "      <td>40197.70</td>\n",
       "      <td>243.0</td>\n",
       "      <td>1</td>\n",
       "      <td>53</td>\n",
       "      <td>66</td>\n",
       "      <td>59696</td>\n",
       "      <td>127613</td>\n",
       "      <td>787</td>\n",
       "      <td>5</td>\n",
       "      <td>2.137714</td>\n",
       "      <td>1</td>\n",
       "    </tr>\n",
       "    <tr>\n",
       "      <th>3</th>\n",
       "      <td>1.0</td>\n",
       "      <td>Transportation Services</td>\n",
       "      <td>695.83</td>\n",
       "      <td>17.0</td>\n",
       "      <td>1</td>\n",
       "      <td>53</td>\n",
       "      <td>66</td>\n",
       "      <td>59696</td>\n",
       "      <td>127613</td>\n",
       "      <td>787</td>\n",
       "      <td>5</td>\n",
       "      <td>2.137714</td>\n",
       "      <td>1</td>\n",
       "    </tr>\n",
       "    <tr>\n",
       "      <th>4</th>\n",
       "      <td>1.0</td>\n",
       "      <td>Utility Services</td>\n",
       "      <td>46069.11</td>\n",
       "      <td>358.0</td>\n",
       "      <td>1</td>\n",
       "      <td>53</td>\n",
       "      <td>66</td>\n",
       "      <td>59696</td>\n",
       "      <td>127613</td>\n",
       "      <td>787</td>\n",
       "      <td>5</td>\n",
       "      <td>2.137714</td>\n",
       "      <td>1</td>\n",
       "    </tr>\n",
       "    <tr>\n",
       "      <th>...</th>\n",
       "      <td>...</td>\n",
       "      <td>...</td>\n",
       "      <td>...</td>\n",
       "      <td>...</td>\n",
       "      <td>...</td>\n",
       "      <td>...</td>\n",
       "      <td>...</td>\n",
       "      <td>...</td>\n",
       "      <td>...</td>\n",
       "      <td>...</td>\n",
       "      <td>...</td>\n",
       "      <td>...</td>\n",
       "      <td>...</td>\n",
       "    </tr>\n",
       "    <tr>\n",
       "      <th>2342</th>\n",
       "      <td>217.0</td>\n",
       "      <td>Clothing Stores</td>\n",
       "      <td>0.00</td>\n",
       "      <td>0.0</td>\n",
       "      <td>1</td>\n",
       "      <td>24</td>\n",
       "      <td>66</td>\n",
       "      <td>101191</td>\n",
       "      <td>290730</td>\n",
       "      <td>659</td>\n",
       "      <td>1</td>\n",
       "      <td>2.873082</td>\n",
       "      <td>2</td>\n",
       "    </tr>\n",
       "    <tr>\n",
       "      <th>2343</th>\n",
       "      <td>217.0</td>\n",
       "      <td>Miscelleanous Stores</td>\n",
       "      <td>812.51</td>\n",
       "      <td>23.0</td>\n",
       "      <td>1</td>\n",
       "      <td>24</td>\n",
       "      <td>66</td>\n",
       "      <td>101191</td>\n",
       "      <td>290730</td>\n",
       "      <td>659</td>\n",
       "      <td>1</td>\n",
       "      <td>2.873082</td>\n",
       "      <td>2</td>\n",
       "    </tr>\n",
       "    <tr>\n",
       "      <th>2344</th>\n",
       "      <td>217.0</td>\n",
       "      <td>Business Services</td>\n",
       "      <td>450.25</td>\n",
       "      <td>8.0</td>\n",
       "      <td>1</td>\n",
       "      <td>24</td>\n",
       "      <td>66</td>\n",
       "      <td>101191</td>\n",
       "      <td>290730</td>\n",
       "      <td>659</td>\n",
       "      <td>1</td>\n",
       "      <td>2.873082</td>\n",
       "      <td>2</td>\n",
       "    </tr>\n",
       "    <tr>\n",
       "      <th>2345</th>\n",
       "      <td>217.0</td>\n",
       "      <td>Professional Services and Membership Organizat...</td>\n",
       "      <td>0.00</td>\n",
       "      <td>0.0</td>\n",
       "      <td>1</td>\n",
       "      <td>24</td>\n",
       "      <td>66</td>\n",
       "      <td>101191</td>\n",
       "      <td>290730</td>\n",
       "      <td>659</td>\n",
       "      <td>1</td>\n",
       "      <td>2.873082</td>\n",
       "      <td>2</td>\n",
       "    </tr>\n",
       "    <tr>\n",
       "      <th>2346</th>\n",
       "      <td>217.0</td>\n",
       "      <td>Government Services</td>\n",
       "      <td>0.00</td>\n",
       "      <td>0.0</td>\n",
       "      <td>1</td>\n",
       "      <td>24</td>\n",
       "      <td>66</td>\n",
       "      <td>101191</td>\n",
       "      <td>290730</td>\n",
       "      <td>659</td>\n",
       "      <td>1</td>\n",
       "      <td>2.873082</td>\n",
       "      <td>2</td>\n",
       "    </tr>\n",
       "  </tbody>\n",
       "</table>\n",
       "<p>2343 rows × 13 columns</p>\n",
       "</div>"
      ],
      "text/plain": [
       "       User                                       MCC Category  TotalSum  \\\n",
       "0       1.0                              Agricultural Services      0.00   \n",
       "1       1.0                                Contracted Services    163.06   \n",
       "2       1.0                                    Travel Services  40197.70   \n",
       "3       1.0                            Transportation Services    695.83   \n",
       "4       1.0                                   Utility Services  46069.11   \n",
       "...     ...                                                ...       ...   \n",
       "2342  217.0                                    Clothing Stores      0.00   \n",
       "2343  217.0                               Miscelleanous Stores    812.51   \n",
       "2344  217.0                                  Business Services    450.25   \n",
       "2345  217.0  Professional Services and Membership Organizat...      0.00   \n",
       "2346  217.0                                Government Services      0.00   \n",
       "\n",
       "      TotalVol  Gender  Current Age  Retirement Age  Yearly Income - Person  \\\n",
       "0          0.0       1           53              66                   59696   \n",
       "1          1.0       1           53              66                   59696   \n",
       "2        243.0       1           53              66                   59696   \n",
       "3         17.0       1           53              66                   59696   \n",
       "4        358.0       1           53              66                   59696   \n",
       "...        ...     ...          ...             ...                     ...   \n",
       "2342       0.0       1           24              66                  101191   \n",
       "2343      23.0       1           24              66                  101191   \n",
       "2344       8.0       1           24              66                  101191   \n",
       "2345       0.0       1           24              66                  101191   \n",
       "2346       0.0       1           24              66                  101191   \n",
       "\n",
       "      Total Debt  FICO Score  Num Credit Cards  Debt/Income  clusters  \n",
       "0         127613         787                 5     2.137714         1  \n",
       "1         127613         787                 5     2.137714         1  \n",
       "2         127613         787                 5     2.137714         1  \n",
       "3         127613         787                 5     2.137714         1  \n",
       "4         127613         787                 5     2.137714         1  \n",
       "...          ...         ...               ...          ...       ...  \n",
       "2342      290730         659                 1     2.873082         2  \n",
       "2343      290730         659                 1     2.873082         2  \n",
       "2344      290730         659                 1     2.873082         2  \n",
       "2345      290730         659                 1     2.873082         2  \n",
       "2346      290730         659                 1     2.873082         2  \n",
       "\n",
       "[2343 rows x 13 columns]"
      ]
     },
     "execution_count": 29,
     "metadata": {},
     "output_type": "execute_result"
    }
   ],
   "source": [
    "main_df"
   ]
  },
  {
   "cell_type": "code",
   "execution_count": 30,
   "metadata": {},
   "outputs": [],
   "source": [
    "transactions_df.to_csv('transactions-cleaned-data.csv')\n",
    "users_df.to_csv('users-cleaned-data.csv')\n",
    "main_df.to_csv('customer-spending.csv')"
   ]
  }
 ],
 "metadata": {
  "interpreter": {
   "hash": "aee8b7b246df8f9039afb4144a1f6fd8d2ca17a180786b69acc140d282b71a49"
  },
  "kernelspec": {
   "display_name": "Python 3.9.0 64-bit",
   "language": "python",
   "name": "python3"
  },
  "language_info": {
   "codemirror_mode": {
    "name": "ipython",
    "version": 3
   },
   "file_extension": ".py",
   "mimetype": "text/x-python",
   "name": "python",
   "nbconvert_exporter": "python",
   "pygments_lexer": "ipython3",
   "version": "3.9.0"
  },
  "orig_nbformat": 4
 },
 "nbformat": 4,
 "nbformat_minor": 2
}
